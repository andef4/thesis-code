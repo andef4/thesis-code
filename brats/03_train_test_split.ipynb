{
 "cells": [
  {
   "cell_type": "code",
   "execution_count": null,
   "metadata": {},
   "outputs": [],
   "source": [
    "from pathlib import Path\n",
    "import random\n",
    "OUTPUT = Path('data/processed/')\n",
    "\n",
    "dirs = []\n",
    "for directory in OUTPUT.iterdir():\n",
    "    if not directory.is_dir():\n",
    "        continue\n",
    "    dirs.append(directory.name)\n",
    "\n",
    "random.shuffle(dirs)\n",
    "split = int(len(dirs) * 0.8)\n",
    "\n",
    "with open(OUTPUT / 'train.txt', 'w') as f:\n",
    "    f.writelines([f'{d}\\n' for d in dirs[:split]])\n",
    "with open(OUTPUT / 'test.txt', 'w') as f:\n",
    "    f.writelines([f'{d}\\n' for d in dirs[split:]])"
   ]
  }
 ],
 "metadata": {
  "kernelspec": {
   "display_name": "Python 3",
   "language": "python",
   "name": "python3"
  },
  "language_info": {
   "codemirror_mode": {
    "name": "ipython",
    "version": 3
   },
   "file_extension": ".py",
   "mimetype": "text/x-python",
   "name": "python",
   "nbconvert_exporter": "python",
   "pygments_lexer": "ipython3",
   "version": "3.7.2"
  }
 },
 "nbformat": 4,
 "nbformat_minor": 2
}
