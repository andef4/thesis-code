{
 "cells": [
  {
   "cell_type": "code",
   "execution_count": 1,
   "metadata": {
    "scrolled": false
   },
   "outputs": [
    {
     "data": {
      "text/plain": [
       "<matplotlib.figure.Figure at 0x7fd791f52e80>"
      ]
     },
     "metadata": {},
     "output_type": "display_data"
    },
    {
     "data": {
      "text/plain": [
       "<matplotlib.figure.Figure at 0x7fd78865e080>"
      ]
     },
     "metadata": {},
     "output_type": "display_data"
    },
    {
     "data": {
      "text/plain": [
       "<matplotlib.figure.Figure at 0x7fd78862d3c8>"
      ]
     },
     "metadata": {},
     "output_type": "display_data"
    }
   ],
   "source": [
    "from PIL import Image, ImageDraw\n",
    "import matplotlib.pyplot as plt\n",
    "import numpy as np\n",
    "import torch\n",
    "from basic_unet import UNet\n",
    "from testnet import load_dataset\n",
    "from torchvision.transforms import ToTensor\n",
    "from scipy.spatial.distance import directed_hausdorff\n",
    "\n",
    "\n",
    "class HausdorffMask:\n",
    "    def __init__(self, width, height):\n",
    "        self.width = width\n",
    "        self.height = height\n",
    "\n",
    "    def generate_masks(self, circle_size, offset):\n",
    "        self.x_count = int(self.width / offset)\n",
    "        self.y_count = int(self.height / offset)\n",
    "\n",
    "        self.masks = []\n",
    "        for y_offset in range(self.y_count):\n",
    "            row = []\n",
    "            for x_offset in range(self.x_count):\n",
    "                x = (x_offset * offset)\n",
    "                y = (y_offset * offset)\n",
    "                image = Image.new('L', (self.width, self.height), 255)\n",
    "                draw = ImageDraw.Draw(image)\n",
    "                draw.ellipse([(x, y), (x + circle_size, y + circle_size)], fill=0)\n",
    "                tensor = ToTensor()(image) / 255\n",
    "                tensor = tensor.squeeze()\n",
    "                row.append(tensor)\n",
    "            self.masks.append(row)\n",
    "\n",
    "    def evaluate(self, image, segment, model, device):\n",
    "        distances = np.zeros((self.y_count, self.x_count))\n",
    "\n",
    "        for y_offset in range(self.y_count):\n",
    "            for x_offset in range(self.x_count):\n",
    "                mask = self.masks[x_offset][y_offset]\n",
    "                mask = mask.to(device)\n",
    "                masked_image = image * mask\n",
    "                output = model(masked_image)\n",
    "                output = output.detach().cpu().numpy()[0]\n",
    "\n",
    "                hd1 = directed_hausdorff(output, segment)\n",
    "                hd2 = directed_hausdorff(segment, output)\n",
    "                distances[x_offset][y_offset] = np.max([hd1, hd2])\n",
    "        return distances\n",
    "\n",
    "\n",
    "device = torch.device(\"cuda:0\" if torch.cuda.is_available() else \"cpu\")\n",
    "train_loader, test_loader = load_dataset(1)\n",
    "model = UNet(in_channels=1, out_channels=1)\n",
    "state_dict = torch.load('models/2_testnet_0490.pth')\n",
    "model.load_state_dict(state_dict)\n",
    "model = model.to(device)\n",
    "\n",
    "hdm = HausdorffMask(240, 240)\n",
    "hdm.generate_masks(circle_size=20, offset=5)\n",
    "\n",
    "for sample in test_loader:\n",
    "    segment = sample['segment']\n",
    "    segment = segment.squeeze()\n",
    "    plt.imshow(segment)\n",
    "    plt.show()\n",
    "\n",
    "    image = sample['input'].to(device)\n",
    "    plt.imshow(sample['input'].squeeze())\n",
    "    plt.show()\n",
    "\n",
    "    distances = hdm.evaluate(image, segment, model, device)\n",
    "    plt.imshow(distances)\n",
    "    plt.show()\n",
    "    break"
   ]
  }
 ],
 "metadata": {
  "kernelspec": {
   "display_name": "Python 3",
   "language": "python",
   "name": "python3"
  },
  "language_info": {
   "codemirror_mode": {
    "name": "ipython",
    "version": 3
   },
   "file_extension": ".py",
   "mimetype": "text/x-python",
   "name": "python",
   "nbconvert_exporter": "python",
   "pygments_lexer": "ipython3",
   "version": "3.7.2"
  }
 },
 "nbformat": 4,
 "nbformat_minor": 2
}
