{
 "cells": [
  {
   "cell_type": "code",
   "execution_count": 1,
   "metadata": {},
   "outputs": [],
   "source": [
    "import numpy as np\n",
    "from scipy.spatial.distance import dice"
   ]
  },
  {
   "cell_type": "code",
   "execution_count": 2,
   "metadata": {},
   "outputs": [],
   "source": [
    "expected = np.array([\n",
    "    [1, 1],\n",
    "    [1, 0],\n",
    "])"
   ]
  },
  {
   "cell_type": "code",
   "execution_count": 3,
   "metadata": {},
   "outputs": [],
   "source": [
    "def compare(given):\n",
    "    given = np.array(given)\n",
    "    dice_coefficient = 1.0 - dice(given.reshape(4), expected.reshape(4))\n",
    "    print(expected)\n",
    "    print(given)\n",
    "    print(f'Dice coefficient: {dice_coefficient}')\n",
    "    print('-' * 40)"
   ]
  },
  {
   "cell_type": "code",
   "execution_count": 4,
   "metadata": {},
   "outputs": [
    {
     "name": "stdout",
     "output_type": "stream",
     "text": [
      "----------------------------------------\n",
      "[[1 1]\n",
      " [1 0]]\n",
      "[[1 1]\n",
      " [1 0]]\n",
      "Dice coefficient: 1.0\n",
      "----------------------------------------\n",
      "[[1 1]\n",
      " [1 0]]\n",
      "[[0 0]\n",
      " [0 1]]\n",
      "Dice coefficient: 0.0\n",
      "----------------------------------------\n",
      "[[1 1]\n",
      " [1 0]]\n",
      "[[1 1]\n",
      " [0 0]]\n",
      "Dice coefficient: 0.8\n",
      "----------------------------------------\n",
      "[[1 1]\n",
      " [1 0]]\n",
      "[[1 0]\n",
      " [1 0]]\n",
      "Dice coefficient: 0.8\n",
      "----------------------------------------\n",
      "[[1 1]\n",
      " [1 0]]\n",
      "[[1 0]\n",
      " [0 0]]\n",
      "Dice coefficient: 0.5\n",
      "----------------------------------------\n"
     ]
    }
   ],
   "source": [
    "print('-' * 40)\n",
    "\n",
    "compare([\n",
    "    [1, 1],\n",
    "    [1, 0],\n",
    "])\n",
    "compare([\n",
    "    [0, 0],\n",
    "    [0, 1],\n",
    "])\n",
    "compare([\n",
    "    [1, 1],\n",
    "    [0, 0],\n",
    "])\n",
    "compare([\n",
    "    [1, 0],\n",
    "    [1, 0],\n",
    "])\n",
    "compare([\n",
    "    [1, 0],\n",
    "    [0, 0],\n",
    "])"
   ]
  }
 ],
 "metadata": {
  "kernelspec": {
   "display_name": "Python 3",
   "language": "python",
   "name": "python3"
  },
  "language_info": {
   "codemirror_mode": {
    "name": "ipython",
    "version": 3
   },
   "file_extension": ".py",
   "mimetype": "text/x-python",
   "name": "python",
   "nbconvert_exporter": "python",
   "pygments_lexer": "ipython3",
   "version": "3.7.2"
  }
 },
 "nbformat": 4,
 "nbformat_minor": 2
}
