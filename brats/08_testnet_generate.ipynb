{
 "cells": [
  {
   "cell_type": "code",
   "execution_count": 1,
   "metadata": {},
   "outputs": [],
   "source": [
    "from PIL import Image, ImageDraw\n",
    "import random\n",
    "from pathlib import Path\n",
    "import shutil\n",
    "import numpy as np"
   ]
  },
  {
   "cell_type": "code",
   "execution_count": 2,
   "metadata": {},
   "outputs": [],
   "source": [
    "def random_scale():\n",
    "    return 1.2 - (random.random() * 0.4)\n",
    "\n",
    "def rect(draw, x, y, w, h, fill=255):\n",
    "    draw.rectangle((x, y, x + w, y + h), fill=fill)\n",
    "\n",
    "def circle(draw, x, y, fill=255):\n",
    "    size = 50 * random_scale()\n",
    "    draw.ellipse((x, y, x + size, y + size), fill=fill)\n",
    "    \n",
    "def cross(draw, x, y, fill=255):\n",
    "    scale = random_scale()\n",
    "    rect(draw, x, y, 10 * scale, 40 * scale, fill)\n",
    "    rect(draw, x - 15* scale, y + 15 * scale, 40 * scale, 10 * scale, fill)\n",
    "\n",
    "def triangle(draw, x, y, fill=255):\n",
    "    scale = random_scale()\n",
    "    draw.polygon([(x, y), (x + 50*scale, y), (x + 25*scale, y + 50*scale)], fill=fill)"
   ]
  },
  {
   "cell_type": "code",
   "execution_count": 3,
   "metadata": {},
   "outputs": [],
   "source": [
    "def generate_image(path):\n",
    "    image = Image.new('L', (240, 240))\n",
    "    draw = ImageDraw.Draw(image)\n",
    "\n",
    "    c = lambda: cross(draw, 40 + random.randint(0, 20), 20 + random.randint(0, 20), random.randint(100, 255))\n",
    "    t = lambda: triangle(draw, 20 + random.randint(0, 20), 110 + random.randint(0, 20), random.randint(100, 255))\n",
    "    \n",
    "    if random.randint(0, 1) == 0:\n",
    "        c()\n",
    "        array = np.array(image)\n",
    "        array = (array > 0).astype(np.uint8) * 255\n",
    "        segment_image = Image.fromarray(array)\n",
    "        segment_image.save(path / 'segment.png')\n",
    "        t()\n",
    "        scale = random_scale()\n",
    "        rect(\n",
    "            draw,\n",
    "            120 + random.randint(0, 20),\n",
    "            70 + random.randint(0, 20),\n",
    "            30*scale,\n",
    "            30*scale,\n",
    "            fill=random.randint(100, 255)\n",
    "        )\n",
    "    else:\n",
    "        t()\n",
    "        image.save(path / 'segment.png')\n",
    "        c()\n",
    "        circle(\n",
    "            draw,\n",
    "            120 + random.randint(0, 20),\n",
    "            70 + random.randint(0, 20),\n",
    "            fill=random.randint(100, 255)\n",
    "        )\n",
    "\n",
    "    image.save(path / 'image.png')"
   ]
  },
  {
   "cell_type": "code",
   "execution_count": 4,
   "metadata": {},
   "outputs": [],
   "source": [
    "OUTPUT = Path('testnet')\n",
    "if OUTPUT.exists():\n",
    "    shutil.rmtree(OUTPUT)\n",
    "OUTPUT.mkdir()\n",
    "for i in range(1000):\n",
    "    image_folder = OUTPUT / str(i)\n",
    "    image_folder.mkdir()\n",
    "    generate_image(image_folder)"
   ]
  }
 ],
 "metadata": {
  "kernelspec": {
   "display_name": "Python 3",
   "language": "python",
   "name": "python3"
  },
  "language_info": {
   "codemirror_mode": {
    "name": "ipython",
    "version": 3
   },
   "file_extension": ".py",
   "mimetype": "text/x-python",
   "name": "python",
   "nbconvert_exporter": "python",
   "pygments_lexer": "ipython3",
   "version": "3.7.2"
  }
 },
 "nbformat": 4,
 "nbformat_minor": 2
}
