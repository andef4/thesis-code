{
 "cells": [
  {
   "cell_type": "code",
   "execution_count": null,
   "metadata": {
    "scrolled": false
   },
   "outputs": [],
   "source": [
    "import os\n",
    "import nibabel as nib\n",
    "import numpy as np\n",
    "from PIL import Image\n",
    "from IPython.display import display\n",
    "import matplotlib.pyplot as plt\n",
    "from matplotlib.colors import ListedColormap\n",
    "import imageio\n",
    "from pathlib import Path\n",
    "import shutil\n",
    "\n",
    "DIRECTORIES = [Path('data/training/HGG'), Path('data/training/LGG')]\n",
    "OUTPUT = Path('data/processed/')"
   ]
  },
  {
   "cell_type": "code",
   "execution_count": null,
   "metadata": {},
   "outputs": [],
   "source": [
    "def rescale(im):\n",
    "    # rescale image from float64 to uint8\n",
    "    assert im.dtype == np.float64\n",
    "    mi = np.nanmin(im)\n",
    "    ma = np.nanmax(im)\n",
    "    im = (im - mi) / (ma - mi) * (np.power(2.0, 8) - 1) + 0.499999999\n",
    "    return im.astype(np.uint8)"
   ]
  },
  {
   "cell_type": "code",
   "execution_count": null,
   "metadata": {
    "scrolled": false
   },
   "outputs": [],
   "source": [
    "def save_layers(layer_id, subdir, layer_name):\n",
    "    for filename in ['t1', 't1ce', 't2', 'flair']:\n",
    "        scan = nib.load(str(subdir / f'{subdir.name}_{filename}.nii.gz'))\n",
    "        scan = scan.get_fdata()\n",
    "        # rotate scans\n",
    "        scan = np.swapaxes(scan, 0, 2)\n",
    "        scan_layer = scan[layer_id]\n",
    "        scan_layer = rescale(scan_layer)\n",
    "        imageio.imwrite(OUTPUT / subdir.name / layer_name / f'{filename}.png', scan_layer)\n",
    "\n",
    "\n",
    "def save_segment(segment_layer, name, layer_name):\n",
    "    ed = segment_layer == 2\n",
    "    et = segment_layer == 4\n",
    "    merged = np.logical_or(et, ed) \n",
    "    scaled = merged.astype(np.uint8) * 255 # make tumor white so its visible in the image file\n",
    "    imageio.imwrite(OUTPUT / subdir.name / layer_name / f'segment.png', scaled)\n",
    "\n",
    "\n",
    "def process(subdir):\n",
    "    seg_file = subdir / f'{subdir.name}_seg.nii.gz'\n",
    "    segment = nib.load(str(seg_file)).dataobj\n",
    "    segment = np.swapaxes(segment, 0, 2)\n",
    "    search = set(np.unique(segment))\n",
    "    \n",
    "    for i in range(len(segment)):\n",
    "        if search == set(np.unique(segment[i])):\n",
    "            start = i\n",
    "            break\n",
    "    for i in range(len(segment) - 1, -1, -1):\n",
    "        if search == set(np.unique(segment[i])):\n",
    "            end = i\n",
    "            break\n",
    "    length = end - start\n",
    "\n",
    "    layer1 = start + int(length / 4)\n",
    "    layer2 = start + int(length / 2)\n",
    "    layer3 = start + int(length / 4 * 3)\n",
    "\n",
    "    (OUTPUT / subdir.name).mkdir()\n",
    "    \n",
    "    (OUTPUT / subdir.name / 'L1').mkdir()\n",
    "    (OUTPUT / subdir.name / 'L2').mkdir()\n",
    "    (OUTPUT / subdir.name / 'L3').mkdir()\n",
    "    \n",
    "    save_segment(segment[layer1], subdir.name, 'L1')\n",
    "    save_segment(segment[layer2], subdir.name, 'L2')\n",
    "    save_segment(segment[layer3], subdir.name, 'L3')\n",
    "    \n",
    "    save_layers(layer1, subdir, 'L1')\n",
    "    save_layers(layer2, subdir, 'L2')\n",
    "    save_layers(layer3, subdir, 'L3')\n",
    "\n",
    "if OUTPUT.exists():\n",
    "    shutil.rmtree(OUTPUT)\n",
    "OUTPUT.mkdir()\n",
    "\n",
    "for directory in DIRECTORIES:\n",
    "    for subdir in directory.iterdir():\n",
    "        if not subdir.is_dir():\n",
    "            continue\n",
    "        process(subdir)"
   ]
  }
 ],
 "metadata": {
  "kernelspec": {
   "display_name": "Python 3",
   "language": "python",
   "name": "python3"
  },
  "language_info": {
   "codemirror_mode": {
    "name": "ipython",
    "version": 3
   },
   "file_extension": ".py",
   "mimetype": "text/x-python",
   "name": "python",
   "nbconvert_exporter": "python",
   "pygments_lexer": "ipython3",
   "version": "3.7.2"
  }
 },
 "nbformat": 4,
 "nbformat_minor": 2
}
