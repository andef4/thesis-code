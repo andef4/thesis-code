{
 "cells": [
  {
   "cell_type": "code",
   "execution_count": 1,
   "metadata": {},
   "outputs": [],
   "source": [
    "import torch.nn.functional as F\n",
    "import torch\n",
    "from torch import nn\n",
    "from training_loop import train_model\n",
    "from basic_unet import UNet\n",
    "from testnet import load_dataset\n",
    "from torch import optim\n",
    "import matplotlib.pyplot as plt\n",
    "from rise import RISE"
   ]
  },
  {
   "cell_type": "code",
   "execution_count": 2,
   "metadata": {},
   "outputs": [],
   "source": [
    "batch_size = 1\n",
    "device = torch.device(\"cuda:0\" if torch.cuda.is_available() else \"cpu\")\n",
    "train_loader, test_loader = load_dataset(batch_size)\n",
    "model = UNet(in_channels=1, out_channels=1)\n",
    "state_dict = torch.load('models/2_testnet_0490.pth')\n",
    "model.load_state_dict(state_dict)\n",
    "model = model.to(device)"
   ]
  },
  {
   "cell_type": "code",
   "execution_count": 3,
   "metadata": {
    "scrolled": false
   },
   "outputs": [
    {
     "data": {
      "image/png": "[encoded data removed]",
      "text/plain": [
       "<matplotlib.figure.Figure at 0x7f34654d0898>"
      ]
     },
     "metadata": {
      "needs_background": "light"
     },
     "output_type": "display_data"
    },
    {
     "data": {
      "image/png": "[encoded data removed]",
      "text/plain": [
       "<matplotlib.figure.Figure at 0x7f34584f0908>"
      ]
     },
     "metadata": {
      "needs_background": "light"
     },
     "output_type": "display_data"
    },
    {
     "data": {
      "image/png": "[encoded data removed]",
      "text/plain": [
       "<matplotlib.figure.Figure at 0x7f345847f6a0>"
      ]
     },
     "metadata": {
      "needs_background": "light"
     },
     "output_type": "display_data"
    }
   ],
   "source": [
    "for sample in test_loader:\n",
    "    segment = sample['segment']\n",
    "    segment = segment.squeeze()\n",
    "    plt.imshow(segment)\n",
    "    plt.show()\n",
    "\n",
    "    image = sample['input'].to(device)\n",
    "    plt.imshow(sample['input'].squeeze())\n",
    "    plt.show()\n",
    "\n",
    "    output = model(image)\n",
    "    output = output.detach().cpu().squeeze().numpy()\n",
    "    output = (output > output.mean())\n",
    "    plt.imshow(output)\n",
    "    plt.show()\n",
    "    break"
   ]
  },
  {
   "cell_type": "code",
   "execution_count": 4,
   "metadata": {},
   "outputs": [
    {
     "ename": "NameError",
     "evalue": "name 'Path' is not defined",
     "output_type": "error",
     "traceback": [
      "\u001b[0;31m---------------------------------------------------------------------------\u001b[0m",
      "\u001b[0;31mNameError\u001b[0m                                 Traceback (most recent call last)",
      "\u001b[0;32m<ipython-input-4-7af794519c88>\u001b[0m in \u001b[0;36m<module>\u001b[0;34m\u001b[0m\n\u001b[1;32m     33\u001b[0m                     \u001b[0;32mreturn\u001b[0m \u001b[0msal\u001b[0m\u001b[0;34m\u001b[0m\u001b[0;34m\u001b[0m\u001b[0m\n\u001b[1;32m     34\u001b[0m \u001b[0;34m\u001b[0m\u001b[0m\n\u001b[0;32m---> 35\u001b[0;31m \u001b[0mmasks_path\u001b[0m \u001b[0;34m=\u001b[0m \u001b[0mPath\u001b[0m\u001b[0;34m(\u001b[0m\u001b[0;34m'rise_masks.npy'\u001b[0m\u001b[0;34m)\u001b[0m\u001b[0;34m\u001b[0m\u001b[0;34m\u001b[0m\u001b[0m\n\u001b[0m\u001b[1;32m     36\u001b[0m \u001b[0mexplainer\u001b[0m \u001b[0;34m=\u001b[0m \u001b[0mSegmentationRISE\u001b[0m\u001b[0;34m(\u001b[0m\u001b[0mmodel\u001b[0m\u001b[0;34m,\u001b[0m \u001b[0;34m(\u001b[0m\u001b[0;36m240\u001b[0m\u001b[0;34m,\u001b[0m \u001b[0;36m240\u001b[0m\u001b[0;34m)\u001b[0m\u001b[0;34m,\u001b[0m \u001b[0mbatch_size\u001b[0m\u001b[0;34m)\u001b[0m\u001b[0;34m\u001b[0m\u001b[0;34m\u001b[0m\u001b[0m\n\u001b[1;32m     37\u001b[0m \u001b[0;32mif\u001b[0m \u001b[0;32mnot\u001b[0m \u001b[0mmasks_path\u001b[0m\u001b[0;34m.\u001b[0m\u001b[0mexists\u001b[0m\u001b[0;34m(\u001b[0m\u001b[0;34m)\u001b[0m\u001b[0;34m:\u001b[0m\u001b[0;34m\u001b[0m\u001b[0;34m\u001b[0m\u001b[0m\n",
      "\u001b[0;31mNameError\u001b[0m: name 'Path' is not defined"
     ]
    }
   ],
   "source": [
    "class SegmentationRISE(RISE):\n",
    "    def __init__(self, *args, **kwargs):\n",
    "        super().__init__(*args, **kwargs)\n",
    "\n",
    "    def forward(self, x):\n",
    "        mask_count = self.N\n",
    "        _, _, H, W = x.size()\n",
    "\n",
    "        # generate new images by putting mask on top of original image\n",
    "        stack = torch.mul(self.masks, x.data)\n",
    "\n",
    "        output = model(x).squeeze()\n",
    "        output = (output > output.mean())\n",
    "        for x in range(output.shape[0]):\n",
    "            for y in range(output.shape[1]):\n",
    "                if output[x][y]:\n",
    "                    # run generated images through the model\n",
    "                    p = []\n",
    "                    for i in range(0, mask_count, self.gpu_batch):\n",
    "                        output_mask = self.model(stack[i:min(i + self.gpu_batch, mask_count)])\n",
    "                        single_pixel = output_mask[0][x][y]\n",
    "                        single_pixel = single_pixel.unsqueeze(0).unsqueeze(0)\n",
    "                        p.append(single_pixel)\n",
    "                    p = torch.cat(p)\n",
    "\n",
    "                    # Number of classes\n",
    "                    CL = p.size(1)\n",
    "\n",
    "                    sal = torch.matmul(p.data.transpose(0, 1), self.masks.view(mask_count, H * W))\n",
    "\n",
    "                    sal = sal.view((CL, H, W))\n",
    "                    sal /= mask_count\n",
    "                    return sal\n",
    "\n",
    "masks_path = Path('rise_masks.npy')\n",
    "explainer = SegmentationRISE(model, (240, 240), batch_size)\n",
    "if not masks_path.exists():\n",
    "    explainer.generate_masks(N=3000, s=8, p1=0.1, savepath=masks_path)\n",
    "else:\n",
    "    explainer.load_masks(masks_path)\n",
    "\n",
    "with torch.set_grad_enabled(False):    \n",
    "    saliency = explainer(image).cpu().numpy()"
   ]
  },
  {
   "cell_type": "code",
   "execution_count": null,
   "metadata": {},
   "outputs": [],
   "source": [
    "plt.imshow(saliency[0], cmap='jet')\n",
    "plt.show()"
   ]
  }
 ],
 "metadata": {
  "kernelspec": {
   "display_name": "Python 3",
   "language": "python",
   "name": "python3"
  },
  "language_info": {
   "codemirror_mode": {
    "name": "ipython",
    "version": 3
   },
   "file_extension": ".py",
   "mimetype": "text/x-python",
   "name": "python",
   "nbconvert_exporter": "python",
   "pygments_lexer": "ipython3",
   "version": "3.7.2"
  }
 },
 "nbformat": 4,
 "nbformat_minor": 2
}
