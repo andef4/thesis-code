{
 "cells": [
  {
   "cell_type": "code",
   "execution_count": null,
   "metadata": {},
   "outputs": [],
   "source": [
    "import os\n",
    "from PIL import Image\n",
    "import shutil"
   ]
  },
  {
   "cell_type": "code",
   "execution_count": null,
   "metadata": {},
   "outputs": [],
   "source": [
    "IMAGES = os.path.join('data', 'images')\n",
    "PROCESSED_IMAGES = os.path.join('data', 'processed_images')\n",
    "\n",
    "if os.path.exists(PROCESSED_IMAGES):\n",
    "    shutil.rmtree(PROCESSED_IMAGES)\n",
    "os.mkdir(PROCESSED_IMAGES)\n",
    "\n",
    "for file in os.listdir(IMAGES):\n",
    "    image = Image.open(os.path.join(IMAGES, file))\n",
    "    rgb_image = Image.new('RGB', image.size)\n",
    "    rgb_image.paste(image)\n",
    "    rgb_image = rgb_image.resize((299, 299), Image.NEAREST)\n",
    "    rgb_image.save(os.path.join(PROCESSED_IMAGES, file))"
   ]
  }
 ],
 "metadata": {
  "kernelspec": {
   "display_name": "Python 3",
   "language": "python",
   "name": "python3"
  },
  "language_info": {
   "codemirror_mode": {
    "name": "ipython",
    "version": 3
   },
   "file_extension": ".py",
   "mimetype": "text/x-python",
   "name": "python",
   "nbconvert_exporter": "python",
   "pygments_lexer": "ipython3",
   "version": "3.7.2"
  }
 },
 "nbformat": 4,
 "nbformat_minor": 2
}
