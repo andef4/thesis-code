{
 "cells": [
  {
   "cell_type": "code",
   "execution_count": null,
   "metadata": {},
   "outputs": [],
   "source": [
    "import os\n",
    "from PIL import Image\n",
    "import shutil\n",
    "from multiprocessing import Pool\n",
    "from resize_image import resize_image"
   ]
  },
  {
   "cell_type": "code",
   "execution_count": null,
   "metadata": {
    "scrolled": false
   },
   "outputs": [],
   "source": [
    "IMAGES = os.path.join('data', 'images')\n",
    "PROCESSED_IMAGES = os.path.join('data', 'processed_images')\n",
    "\n",
    "if os.path.exists(PROCESSED_IMAGES):\n",
    "    shutil.rmtree(PROCESSED_IMAGES)\n",
    "os.mkdir(PROCESSED_IMAGES)\n",
    "\n",
    "pool = Pool(processes=16)\n",
    "\n",
    "images = os.listdir(IMAGES)\n",
    "images = [(os.path.join(IMAGES, file), os.path.join(PROCESSED_IMAGES, file),) for file in images]\n",
    "    \n",
    "_ = pool.map(resize_image, images)"
   ]
  }
 ],
 "metadata": {
  "kernelspec": {
   "display_name": "Python 3",
   "language": "python",
   "name": "python3"
  },
  "language_info": {
   "codemirror_mode": {
    "name": "ipython",
    "version": 3
   },
   "file_extension": ".py",
   "mimetype": "text/x-python",
   "name": "python",
   "nbconvert_exporter": "python",
   "pygments_lexer": "ipython3",
   "version": "3.7.2"
  }
 },
 "nbformat": 4,
 "nbformat_minor": 2
}
