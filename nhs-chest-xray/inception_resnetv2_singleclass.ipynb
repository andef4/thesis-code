{
 "cells": [
  {
   "cell_type": "code",
   "execution_count": null,
   "metadata": {},
   "outputs": [],
   "source": [
    "import os\n",
    "import math\n",
    "import torch\n",
    "from torch.optim import Adam\n",
    "from torch import nn\n",
    "from torchvision import transforms\n",
    "from torch.utils.data import DataLoader, random_split, Dataset\n",
    "from PIL import Image\n",
    "from training_loop import train_model\n",
    "from inceptionresnetv2 import InceptionResNetV2"
   ]
  },
  {
   "cell_type": "code",
   "execution_count": null,
   "metadata": {},
   "outputs": [],
   "source": [
    "CSV_FILE = os.path.join('sample_data', 'sample_labels.csv')\n",
    "BATCH_SIZE = 10"
   ]
  },
  {
   "cell_type": "code",
   "execution_count": null,
   "metadata": {},
   "outputs": [],
   "source": [
    "import csv\n",
    "\n",
    "class XRayDataset(Dataset):\n",
    "    def __init__(self, transform):\n",
    "        self.transform = transform\n",
    "        self.files = []\n",
    "        if not os.path.exists(CSV_FILE):\n",
    "            raise Exception('missing csv data file {}, please download data as described in README.md'.format(CSV_FILE))\n",
    "\n",
    "        self.classes = set()\n",
    "            \n",
    "        with open(CSV_FILE) as csvfile:\n",
    "            reader = csv.reader(csvfile, delimiter=',')\n",
    "            next(reader) # skip header\n",
    "            for row in reader:\n",
    "                filename, labels, *_ = row\n",
    "                labels = labels.split('|')\n",
    "                self.files.append((filename, labels))\n",
    "                self.classes.update(labels)\n",
    "\n",
    "        # convert set to list to have a guaranteed iteration order\n",
    "        # this should also be the case with a set, but it is not explictly defined\n",
    "        self.classes = list(self.classes)\n",
    "\n",
    "    def __getitem__(self, index):\n",
    "        filename, labels = self.files[index]\n",
    "        image = Image.open(os.path.join('data', 'processed_images', filename))\n",
    "        if self.transform:\n",
    "            image = self.transform(image)\n",
    "\n",
    "        label_tensor = []\n",
    "        for label in self.classes:\n",
    "            if label in labels:\n",
    "                label_tensor.append(1.0)\n",
    "            else:\n",
    "                label_tensor.append(0.0)\n",
    "        return image, torch.tensor(label_tensor, dtype=torch.float)\n",
    "\n",
    "    def __len__(self):\n",
    "        return len(self.files)"
   ]
  },
  {
   "cell_type": "code",
   "execution_count": null,
   "metadata": {},
   "outputs": [],
   "source": [
    "def load_dataset():\n",
    "    transform = transforms.Compose([\n",
    "        transforms.ToTensor(),\n",
    "    ])\n",
    "    \n",
    "    d = XRayDataset(transform=transform)\n",
    "    train, validate = random_split(d, [4485, 1121])\n",
    "    \n",
    "    loader = DataLoader(train, batch_size=BATCH_SIZE)\n",
    "    validation_loader = DataLoader(validate, batch_size=BATCH_SIZE)\n",
    "\n",
    "    return len(d.classes), loader, validation_loader"
   ]
  },
  {
   "cell_type": "code",
   "execution_count": null,
   "metadata": {},
   "outputs": [],
   "source": [
    "device = torch.device(\"cuda:0\" if torch.cuda.is_available() else \"cpu\")\n",
    "\n",
    "num_classes, loader, validation_loader = load_dataset()\n",
    "\n",
    "model = InceptionResNetV2(num_classes=num_classes)\n",
    "model = model.to(device)\n",
    "\n",
    "criterion = nn.BCEWithLogitsLoss()\n",
    "optimizer = Adam(params=model.parameters(), lr=0.0001)\n",
    "\n",
    "train_model(\n",
    "    'basic',\n",
    "    model,\n",
    "    {'train': loader, 'val': validation_loader},\n",
    "    criterion,\n",
    "    optimizer,\n",
    "    device,\n",
    "    num_epochs=1000\n",
    ")"
   ]
  }
 ],
 "metadata": {
  "kernelspec": {
   "display_name": "Python 3",
   "language": "python",
   "name": "python3"
  },
  "language_info": {
   "codemirror_mode": {
    "name": "ipython",
    "version": 3
   },
   "file_extension": ".py",
   "mimetype": "text/x-python",
   "name": "python",
   "nbconvert_exporter": "python",
   "pygments_lexer": "ipython3",
   "version": "3.7.2"
  }
 },
 "nbformat": 4,
 "nbformat_minor": 2
}
