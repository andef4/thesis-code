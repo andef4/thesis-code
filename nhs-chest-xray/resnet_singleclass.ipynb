{
 "cells": [
  {
   "cell_type": "code",
   "execution_count": null,
   "metadata": {},
   "outputs": [],
   "source": [
    "import os\n",
    "import math\n",
    "import torch\n",
    "from torch import nn, optim\n",
    "from torchvision import transforms\n",
    "from torch.utils.data import DataLoader, random_split, Dataset\n",
    "from PIL import Image\n",
    "from training_loop_single import train_model\n",
    "from torchvision import models"
   ]
  },
  {
   "cell_type": "code",
   "execution_count": null,
   "metadata": {},
   "outputs": [],
   "source": [
    "CSV_FILE = os.path.join('data', 'Data_Entry_2017.csv')\n",
    "#CSV_FILE = os.path.join('sample_data', 'sample_labels.csv')\n",
    "BATCH_SIZE = 10"
   ]
  },
  {
   "cell_type": "code",
   "execution_count": null,
   "metadata": {},
   "outputs": [],
   "source": [
    "import csv\n",
    "\n",
    "class XRayDataset(Dataset):\n",
    "    def __init__(self, transform):\n",
    "        self.transform = transform\n",
    "        self.files = []\n",
    "        if not os.path.exists(CSV_FILE):\n",
    "            raise Exception('missing csv data file {}, please download data as described in README.md'.format(CSV_FILE))\n",
    "\n",
    "        self.classes = set()\n",
    "            \n",
    "        with open(CSV_FILE) as csvfile:\n",
    "            reader = csv.reader(csvfile, delimiter=',')\n",
    "            next(reader) # skip header\n",
    "            for row in reader:\n",
    "                filename, labels, *_ = row\n",
    "                labels = labels.split('|')\n",
    "                if len(labels) != 1 or labels[0] == 'No Finding':\n",
    "                    continue\n",
    "                self.files.append((filename, labels[0]))\n",
    "                self.classes.update(labels)\n",
    "\n",
    "        # convert set to list to have a guaranteed iteration order\n",
    "        # this should also be the case with a set, but it is not explictly defined\n",
    "        self.classes = list(self.classes)\n",
    "\n",
    "    def __getitem__(self, index):\n",
    "        filename, label = self.files[index]\n",
    "        image = Image.open(os.path.join('data', 'processed_images', filename))\n",
    "        if self.transform:\n",
    "            image = self.transform(image)\n",
    "        return image, torch.tensor(self.classes.index(label), dtype=torch.long)\n",
    "\n",
    "    def __len__(self):\n",
    "        return len(self.files)"
   ]
  },
  {
   "cell_type": "code",
   "execution_count": null,
   "metadata": {},
   "outputs": [],
   "source": [
    "def load_dataset():\n",
    "    transform = transforms.Compose([\n",
    "        transforms.ColorJitter(brightness=0.1, contrast=0.1, saturation=0.1, hue=0.0),\n",
    "        transforms.RandomHorizontalFlip(),\n",
    "        transforms.ToTensor(),\n",
    "    ])\n",
    "    \n",
    "    d = XRayDataset(transform=transform)\n",
    "    size = len(d)\n",
    "    train_size = int(size * 0.8)\n",
    "    train, validate = random_split(d, [train_size, size - train_size])\n",
    "    \n",
    "    loader = DataLoader(train, batch_size=BATCH_SIZE)\n",
    "    validation_loader = DataLoader(validate, batch_size=BATCH_SIZE)\n",
    "\n",
    "    return len(d.classes), loader, validation_loader"
   ]
  },
  {
   "cell_type": "code",
   "execution_count": null,
   "metadata": {
    "scrolled": false
   },
   "outputs": [],
   "source": [
    "device = torch.device(\"cuda:0\" if torch.cuda.is_available() else \"cpu\")\n",
    "\n",
    "num_classes, loader, validation_loader = load_dataset()\n",
    "\n",
    "model = models.resnet18(pretrained=False)\n",
    "#model = models.resnet50(pretrained=False)\n",
    "#for param in model.parameters():\n",
    "#    param.requires_grad = False\n",
    "#num_ftrs = model.fc.in_features\n",
    "#model.fc = nn.Linear(num_ftrs, num_classes)\n",
    "\n",
    "#state_dict = torch.load('resnet18_single_full_0.65617.pth')\n",
    "#model.load_state_dict(state_dict)\n",
    "\n",
    "model = model.to(device)\n",
    "\n",
    "criterion = nn.CrossEntropyLoss()\n",
    "#optimizer = optim.Adam(params=model.parameters(), lr=0.0001)\n",
    "optimizer = optim.SGD(params=model.parameters(), lr=0.001, momentum=0.9)\n",
    "\n",
    "train_model(\n",
    "    'resnet18_single_full_findingsonly_augmentation',\n",
    "    model,\n",
    "    {'train': loader, 'val': validation_loader},\n",
    "    criterion,\n",
    "    optimizer,\n",
    "    device,\n",
    "    num_epochs=1000\n",
    ")"
   ]
  },
  {
   "cell_type": "code",
   "execution_count": null,
   "metadata": {},
   "outputs": [],
   "source": []
  }
 ],
 "metadata": {
  "kernelspec": {
   "display_name": "Python 3",
   "language": "python",
   "name": "python3"
  },
  "language_info": {
   "codemirror_mode": {
    "name": "ipython",
    "version": 3
   },
   "file_extension": ".py",
   "mimetype": "text/x-python",
   "name": "python",
   "nbconvert_exporter": "python",
   "pygments_lexer": "ipython3",
   "version": "3.7.2"
  }
 },
 "nbformat": 4,
 "nbformat_minor": 2
}
