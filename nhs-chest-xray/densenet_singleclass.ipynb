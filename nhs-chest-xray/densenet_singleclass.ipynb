{
 "cells": [
  {
   "cell_type": "code",
   "execution_count": null,
   "metadata": {},
   "outputs": [],
   "source": [
    "import os\n",
    "import math\n",
    "import torch\n",
    "from torch import nn, optim\n",
    "from torchvision import transforms\n",
    "from torch.utils.data import DataLoader, random_split, Dataset\n",
    "from PIL import Image\n",
    "from training_loop_single import train_model\n",
    "from torchvision import models\n",
    "from inceptionresnetv2 import InceptionResNetV2"
   ]
  },
  {
   "cell_type": "code",
   "execution_count": null,
   "metadata": {},
   "outputs": [],
   "source": [
    "CSV_FILE = os.path.join('data', 'Data_Entry_2017.csv')\n",
    "#CSV_FILE = os.path.join('sample_data', 'sample_labels.csv')\n",
    "BATCH_SIZE = 15"
   ]
  },
  {
   "cell_type": "code",
   "execution_count": null,
   "metadata": {},
   "outputs": [],
   "source": [
    "import csv\n",
    "from collections import defaultdict\n",
    "\n",
    "class XRayDataset(Dataset):\n",
    "    def __init__(self, transform, validation=False):\n",
    "        self.transform = transform\n",
    "        self.files = []\n",
    "        if not os.path.exists(CSV_FILE):\n",
    "            raise Exception('missing csv data file {}, please download data as described in README.md'.format(CSV_FILE))\n",
    "\n",
    "        self.classes = set()\n",
    "        self.class_counts = defaultdict(lambda: 0)\n",
    "\n",
    "        with open('data/test_list.txt' if validation else 'data/train_val_list.txt') as f:\n",
    "            filenames = set([s.strip() for s in f.readlines()])\n",
    "\n",
    "        with open(CSV_FILE) as csvfile:\n",
    "            reader = csv.reader(csvfile, delimiter=',')\n",
    "            next(reader) # skip header\n",
    "            for row in reader:\n",
    "                filename, labels, *_ = row\n",
    "                if filename not in filenames:\n",
    "                    continue\n",
    "\n",
    "                labels = labels.split('|')\n",
    "                # only use images with a single class\n",
    "                if len(labels) != 1 or labels[0] == 'No Finding':\n",
    "                    continue\n",
    "                self.files.append((filename, labels[0]))\n",
    "                self.classes.update(labels)\n",
    "                self.class_counts[labels[0]] += 1\n",
    "\n",
    "        # convert set to list to have a guaranteed iteration order\n",
    "        # this should also be the case with a set, but it is not explictly defined\n",
    "        self.classes = sorted(list(self.classes))\n",
    "        class_weights = []\n",
    "        for class_ in self.classes:\n",
    "            class_weights.append(1 / self.class_counts[class_])\n",
    "        self.class_weights = torch.tensor(class_weights, dtype=torch.float)\n",
    "\n",
    "    def __getitem__(self, index):\n",
    "        filename, label = self.files[index]\n",
    "        image = Image.open(os.path.join('data299', 'processed_images', filename))\n",
    "        image = self.transform(image)\n",
    "        return image, torch.tensor(self.classes.index(label), dtype=torch.long)\n",
    "\n",
    "    def __len__(self):\n",
    "        return len(self.files)"
   ]
  },
  {
   "cell_type": "code",
   "execution_count": null,
   "metadata": {},
   "outputs": [],
   "source": [
    "def load_dataset():\n",
    "    transform = transforms.Compose([\n",
    "        transforms.ColorJitter(brightness=0.1, contrast=0.1, saturation=0.1, hue=0.0),\n",
    "        #transforms.RandomHorizontalFlip(),\n",
    "        transforms.ToTensor(),\n",
    "        transforms.Normalize([0.485, 0.456, 0.406], [0.229, 0.224, 0.225])\n",
    "    ])\n",
    "    \n",
    "    train = XRayDataset(transform=transform)\n",
    "    validation = XRayDataset(transform=transform, validation=True)\n",
    "    loader = DataLoader(train, batch_size=BATCH_SIZE)\n",
    "    validation_loader = DataLoader(validation, batch_size=BATCH_SIZE)\n",
    "    return len(train.classes), loader, validation_loader, train.class_weights"
   ]
  },
  {
   "cell_type": "code",
   "execution_count": null,
   "metadata": {
    "scrolled": false
   },
   "outputs": [],
   "source": [
    "device = torch.device(\"cuda:0\" if torch.cuda.is_available() else \"cpu\")\n",
    "\n",
    "num_classes, loader, validation_loader, weights = load_dataset()\n",
    "\n",
    "model = models.densenet121(pretrained=True)\n",
    "num_ftrs = model.classifier.in_features\n",
    "model.classifier = nn.Sequential(nn.Linear(num_ftrs, num_classes), nn.Sigmoid())\n",
    "\n",
    "#model = InceptionResNetV2(num_classes=num_classes)\n",
    "\n",
    "model = model.to(device)\n",
    "\n",
    "criterion = nn.CrossEntropyLoss(weight=weights.to(device))\n",
    "optimizer = optim.Adam(params=model.parameters(), lr=0.0001)\n",
    "#optimizer = optim.SGD(params=model.parameters(), lr=0.001, momentum=0.9)\n",
    "\n",
    "train_model(\n",
    "    'inceptionresnetv2_single_full_nonofindings_weighted_augmented',\n",
    "    model,\n",
    "    {'train': loader, 'val': validation_loader},\n",
    "    criterion,\n",
    "    optimizer,\n",
    "    device,\n",
    "    num_epochs=1000\n",
    ")"
   ]
  }
 ],
 "metadata": {
  "kernelspec": {
   "display_name": "Python 3",
   "language": "python",
   "name": "python3"
  },
  "language_info": {
   "codemirror_mode": {
    "name": "ipython",
    "version": 3
   },
   "file_extension": ".py",
   "mimetype": "text/x-python",
   "name": "python",
   "nbconvert_exporter": "python",
   "pygments_lexer": "ipython3",
   "version": "3.7.2"
  }
 },
 "nbformat": 4,
 "nbformat_minor": 2
}
