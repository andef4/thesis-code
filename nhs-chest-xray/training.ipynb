{
 "cells": [
  {
   "cell_type": "code",
   "execution_count": null,
   "metadata": {},
   "outputs": [],
   "source": [
    "import os\n",
    "import math\n",
    "import torch\n",
    "#from torch.autograd import Variable\n",
    "#from torch.optim import Adam\n",
    "#from torch import nn\n",
    "#import torch.nn.functional as F\n",
    "#from torchvision import transforms, models\n",
    "from torch.utils.data import DataLoader, random_split, Dataset\n",
    "from PIL import Image\n",
    "from training_loop import train_model"
   ]
  },
  {
   "cell_type": "code",
   "execution_count": null,
   "metadata": {},
   "outputs": [],
   "source": [
    "CSV_FILE = os.path.join('data', 'sample_labels.csv')"
   ]
  },
  {
   "cell_type": "code",
   "execution_count": null,
   "metadata": {},
   "outputs": [],
   "source": [
    "import csv\n",
    "\n",
    "class XRayDataset(Dataset):\n",
    "    def __init__(self, transform=None):\n",
    "        self.transform = transform\n",
    "        self.files = []\n",
    "        if not os.path.exists(CSV_FILE):\n",
    "            raise Exception('missing csv data file {}, please download data as described in README.md'.format(CSV_FILE))\n",
    "\n",
    "        self.labels = set()\n",
    "            \n",
    "        with open(CSV_FILE) as csvfile:\n",
    "            reader = csv.reader(csvfile, delimiter=',')\n",
    "            next(reader) # skip header\n",
    "            for row in reader:\n",
    "                filename, labels, *_ = row\n",
    "                labels = labels.split('|')\n",
    "                self.files.append((filename, labels))\n",
    "                self.labels.update(labels)\n",
    "        \n",
    "        # convert set to list to have a guaranteed iteration order\n",
    "        # this should also be the case with a set, but it is not explictly defined\n",
    "        self.labels = list(self.labels)\n",
    "\n",
    "    def __getitem__(self, index):\n",
    "        filename, labels = self.files[index]\n",
    "        image = Image.open(os.path.join('data', 'images', filename))\n",
    "        if self.transform:\n",
    "            image = self.transform(image)\n",
    "        \n",
    "        label_tensor = []\n",
    "        for label in self.labels:\n",
    "            if label in labels:\n",
    "                label_tensor.append(1.0)\n",
    "            else:\n",
    "                label_tensor.append(0.0)\n",
    "        return image, torch.tensor(label_tensor, dtype=torch.float)"
   ]
  },
  {
   "cell_type": "code",
   "execution_count": null,
   "metadata": {},
   "outputs": [],
   "source": []
  }
 ],
 "metadata": {
  "kernelspec": {
   "display_name": "Python 3",
   "language": "python",
   "name": "python3"
  },
  "language_info": {
   "codemirror_mode": {
    "name": "ipython",
    "version": 3
   },
   "file_extension": ".py",
   "mimetype": "text/x-python",
   "name": "python",
   "nbconvert_exporter": "python",
   "pygments_lexer": "ipython3",
   "version": "3.7.2"
  }
 },
 "nbformat": 4,
 "nbformat_minor": 2
}
