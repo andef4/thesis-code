{
 "cells": [
  {
   "cell_type": "code",
   "execution_count": 1,
   "metadata": {},
   "outputs": [],
   "source": [
    "import os\n",
    "import math\n",
    "import torch\n",
    "from torch import nn, optim\n",
    "from torchvision import transforms\n",
    "from torch.utils.data import DataLoader\n",
    "from PIL import Image\n",
    "from torchvision import models\n",
    "from analyze import XRayDataset, load_model\n",
    "from collections import defaultdict"
   ]
  },
  {
   "cell_type": "code",
   "execution_count": 2,
   "metadata": {
    "scrolled": false
   },
   "outputs": [
    {
     "name": "stdout",
     "output_type": "stream",
     "text": [
      "1000/7992\n",
      "2000/7992\n",
      "3000/7992\n",
      "4000/7992\n",
      "5000/7992\n",
      "6000/7992\n",
      "7000/7992\n",
      "8000/7992\n"
     ]
    }
   ],
   "source": [
    "device = torch.device(\"cuda:0\" if torch.cuda.is_available() else \"cpu\")\n",
    "\n",
    "dataset, loader, model = load_model(device)\n",
    "num_classes = len(dataset.classes)\n",
    "\n",
    "criterion = nn.CrossEntropyLoss(weight=dataset.class_weights.to(device))\n",
    "\n",
    "images_per_class = defaultdict(lambda: [])\n",
    "\n",
    "j = 0\n",
    "count = len(dataset)\n",
    "for inputs, labels, filenames in loader:\n",
    "    with torch.set_grad_enabled(False):\n",
    "        j += 1\n",
    "        if j % 100 == 0:\n",
    "            print(f'{j*10}/{count}')\n",
    "        inputs = inputs.to(device)\n",
    "        labels = labels.to(device)\n",
    "\n",
    "        outputs = model(inputs)\n",
    "\n",
    "        _, preds = torch.max(outputs, 1)\n",
    "\n",
    "        for i in range(len(labels)):\n",
    "            label = labels[i:i+1]\n",
    "            pred = preds[i]\n",
    "            output = outputs[i:i+1]\n",
    "            loss = criterion(output, label)\n",
    "            \n",
    "            images_per_class[labels[i].item()].append({\n",
    "                'image': filenames[i],\n",
    "                'correct': bool(label == pred),\n",
    "                'loss': loss.item()\n",
    "            })"
   ]
  },
  {
   "cell_type": "code",
   "execution_count": 6,
   "metadata": {
    "scrolled": false
   },
   "outputs": [],
   "source": [
    "import json\n",
    "best_ten = {}\n",
    "\n",
    "for label, images in images_per_class.items():\n",
    "    images = filter(lambda i: i['correct'], images)\n",
    "    images = sorted(images, key=lambda i: i['loss'])\n",
    "    best_ten[dataset.classes[label]] = images[:10]\n",
    "\n",
    "with open('best10.json', 'w') as f:\n",
    "    json.dump(best_ten, f, indent=2)"
   ]
  }
 ],
 "metadata": {
  "kernelspec": {
   "display_name": "Python 3",
   "language": "python",
   "name": "python3"
  },
  "language_info": {
   "codemirror_mode": {
    "name": "ipython",
    "version": 3
   },
   "file_extension": ".py",
   "mimetype": "text/x-python",
   "name": "python",
   "nbconvert_exporter": "python",
   "pygments_lexer": "ipython3",
   "version": "3.7.2"
  }
 },
 "nbformat": 4,
 "nbformat_minor": 2
}
