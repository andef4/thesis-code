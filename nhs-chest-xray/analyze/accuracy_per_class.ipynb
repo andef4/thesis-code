{
 "cells": [
  {
   "cell_type": "code",
   "execution_count": null,
   "metadata": {},
   "outputs": [],
   "source": [
    "import os\n",
    "import math\n",
    "import torch\n",
    "from torch import nn, optim\n",
    "from torchvision import transforms\n",
    "from torch.utils.data import DataLoader, random_split, Dataset\n",
    "from PIL import Image\n",
    "from torchvision import models"
   ]
  },
  {
   "cell_type": "code",
   "execution_count": null,
   "metadata": {},
   "outputs": [],
   "source": [
    "CSV_FILE = os.path.join('..', 'data', 'Data_Entry_2017.csv')\n",
    "BATCH_SIZE = 10"
   ]
  },
  {
   "cell_type": "code",
   "execution_count": null,
   "metadata": {},
   "outputs": [],
   "source": [
    "import csv\n",
    "\n",
    "class XRayDataset(Dataset):\n",
    "    def __init__(self, transform, validation=False):\n",
    "        self.transform = transform\n",
    "        self.files = []\n",
    "        if not os.path.exists(CSV_FILE):\n",
    "            raise Exception('missing csv data file {}, please download data as described in README.md'.format(CSV_FILE))\n",
    "\n",
    "        self.classes = set()\n",
    "\n",
    "        with open(CSV_FILE) as csvfile:\n",
    "            reader = csv.reader(csvfile, delimiter=',')\n",
    "            next(reader) # skip header\n",
    "            for row in reader:\n",
    "                filename, labels, *_ = row\n",
    "                labels = labels.split('|')\n",
    "                # only use images with a single class\n",
    "                if len(labels) != 1 or labels[0] == 'No Finding':\n",
    "                    continue\n",
    "                self.files.append((filename, labels[0]))\n",
    "                self.classes.update(labels)\n",
    "\n",
    "        # convert set to list to have a guaranteed iteration order\n",
    "        # this should also be the case with a set, but it is not explictly defined\n",
    "        self.classes = sorted(list(self.classes))\n",
    "\n",
    "    def __getitem__(self, index):\n",
    "        filename, label = self.files[index]\n",
    "        image = Image.open(os.path.join('..', 'data', 'processed_images', filename))\n",
    "        image = self.transform(image)\n",
    "        return image, torch.tensor(self.classes.index(label), dtype=torch.long)\n",
    "\n",
    "    def __len__(self):\n",
    "        return len(self.files)"
   ]
  },
  {
   "cell_type": "code",
   "execution_count": null,
   "metadata": {},
   "outputs": [],
   "source": [
    "dataset = XRayDataset(transform=transforms.ToTensor())\n",
    "loader = DataLoader(dataset, batch_size=BATCH_SIZE)\n",
    "\n",
    "num_classes = len(dataset.classes)\n",
    "\n",
    "model = models.densenet121()\n",
    "num_ftrs = model.classifier.in_features\n",
    "model.classifier = nn.Sequential(nn.Linear(num_ftrs, num_classes), nn.Sigmoid())\n",
    "state_dict = torch.load('../densenet_single_full_nonofindings_3_0.29417.pth')\n",
    "model.load_state_dict(state_dict)"
   ]
  },
  {
   "cell_type": "code",
   "execution_count": null,
   "metadata": {
    "scrolled": false
   },
   "outputs": [],
   "source": [
    "model.eval()   # Set model to evaluate mode\n",
    "\n",
    "total_per_class = [0] * num_classes\n",
    "correct_per_class = [0] * num_classes\n",
    "\n",
    "j = 0\n",
    "for inputs, labels in loader:\n",
    "    j += 1\n",
    "    if j % 10 == 0:\n",
    "        print(total_per_class, correct_per_class)\n",
    "    outputs = model(inputs)\n",
    "    _, preds = torch.max(outputs, 1)\n",
    "    \n",
    "    for i in range(len(labels)):\n",
    "        label = labels[i]\n",
    "        pred = preds[i]\n",
    "        total_per_class[label] += 1\n",
    "        if label == pred:\n",
    "            correct_per_class[label] += 1\n"
   ]
  }
 ],
 "metadata": {
  "kernelspec": {
   "display_name": "Python 3",
   "language": "python",
   "name": "python3"
  },
  "language_info": {
   "codemirror_mode": {
    "name": "ipython",
    "version": 3
   },
   "file_extension": ".py",
   "mimetype": "text/x-python",
   "name": "python",
   "nbconvert_exporter": "python",
   "pygments_lexer": "ipython3",
   "version": "3.7.2"
  }
 },
 "nbformat": 4,
 "nbformat_minor": 2
}
