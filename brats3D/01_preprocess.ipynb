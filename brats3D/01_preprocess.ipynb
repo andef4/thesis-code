{
 "cells": [
  {
   "cell_type": "code",
   "execution_count": null,
   "metadata": {},
   "outputs": [],
   "source": [
    "from pathlib import Path\n",
    "import shutil\n",
    "import os"
   ]
  },
  {
   "cell_type": "code",
   "execution_count": null,
   "metadata": {},
   "outputs": [],
   "source": [
    "def copy_images(image):\n",
    "    dest_path = Path('images/')\n",
    "    if not dest_path.exists():\n",
    "        dest_path.mkdir()\n",
    "\n",
    "    source_path = Path('../brats/data/training/') / image\n",
    "    basename = source_path.name\n",
    "\n",
    "    dest_path = dest_path / basename\n",
    "    if not dest_path.exists():\n",
    "        dest_path.mkdir()\n",
    "    dest_path = dest_path / 'original'\n",
    "    if dest_path.exists():\n",
    "        shutil.rmtree(dest_path)\n",
    "    dest_path.mkdir()\n",
    "\n",
    "    shutil.copy(str(source_path / f'{basename}_flair.nii.gz'), str(dest_path / 'flair.nii.gz'))\n",
    "    shutil.copy(str(source_path / f'{basename}_t1.nii.gz'), str(dest_path / 't1.nii.gz'))\n",
    "    shutil.copy(str(source_path / f'{basename}_t1ce.nii.gz'), str(dest_path / 't1ce.nii.gz'))\n",
    "    shutil.copy(str(source_path / f'{basename}_t2.nii.gz'), str(dest_path / 't2.nii.gz'))\n",
    "    shutil.copy(str(source_path / f'{basename}_seg.nii.gz'), str(dest_path / 'seg.nii.gz'))\n",
    "\n",
    "copy_images('HGG/Brats18_2013_17_1')"
   ]
  },
  {
   "cell_type": "code",
   "execution_count": null,
   "metadata": {
    "scrolled": false
   },
   "outputs": [],
   "source": [
    "#!docker run -it --rm -v /data:$PWD/images/Brats18_2013_17_1/ brats/brats_ac bash ./run.sh"
   ]
  }
 ],
 "metadata": {
  "kernelspec": {
   "display_name": "Python 3",
   "language": "python",
   "name": "python3"
  },
  "language_info": {
   "codemirror_mode": {
    "name": "ipython",
    "version": 3
   },
   "file_extension": ".py",
   "mimetype": "text/x-python",
   "name": "python",
   "nbconvert_exporter": "python",
   "pygments_lexer": "ipython3",
   "version": "3.7.2"
  }
 },
 "nbformat": 4,
 "nbformat_minor": 2
}
