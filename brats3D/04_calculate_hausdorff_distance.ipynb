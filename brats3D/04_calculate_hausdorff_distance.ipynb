{
 "cells": [
  {
   "cell_type": "code",
   "execution_count": null,
   "metadata": {},
   "outputs": [],
   "source": [
    "from scipy.spatial.distance import directed_hausdorff\n",
    "import nibabel as nib\n",
    "import numpy as np\n",
    "from pathlib import Path\n",
    "from sklearn.metrics import mean_squared_error"
   ]
  },
  {
   "cell_type": "code",
   "execution_count": null,
   "metadata": {},
   "outputs": [],
   "source": [
    "def hausdorff_distance(output, segment):\n",
    "    hd1 = directed_hausdorff(output, segment)[0]\n",
    "    hd2 = directed_hausdorff(segment, output)[0]\n",
    "    return np.max([hd1, hd2])\n",
    "\n",
    "\n",
    "def hausdorff_distance3D(output, segment):\n",
    "    distances = []\n",
    "    for i in range(segment.shape[0]):\n",
    "        segment_slice = segment[i]\n",
    "        output_slice = output[i]\n",
    "        distance = hausdorff_distance(output_slice, segment_slice)\n",
    "        distances.append(distance)\n",
    "    return distances"
   ]
  },
  {
   "cell_type": "code",
   "execution_count": null,
   "metadata": {},
   "outputs": [],
   "source": [
    "segment = nib.load('images/Brats18_2013_17_1/original/seg.nii.gz')\n",
    "segment = segment.get_fdata()"
   ]
  },
  {
   "cell_type": "code",
   "execution_count": null,
   "metadata": {},
   "outputs": [],
   "source": [
    "baseline = nib.load('images/Brats18_2013_17_1/baseline.nii.gz')\n",
    "baseline = baseline.get_fdata()"
   ]
  },
  {
   "cell_type": "code",
   "execution_count": null,
   "metadata": {},
   "outputs": [],
   "source": [
    "baseline_distances = hausdorff_distance3D(segment, baseline)"
   ]
  },
  {
   "cell_type": "code",
   "execution_count": null,
   "metadata": {
    "scrolled": false
   },
   "outputs": [],
   "source": [
    "CUBE_SIZE = 25\n",
    "OFFSET = 25\n",
    "\n",
    "x_count = int(baseline.shape[0] / OFFSET)\n",
    "y_count = int(baseline.shape[1] / OFFSET)\n",
    "z_count = int(baseline.shape[2] / OFFSET)\n",
    "\n",
    "for mod in ['t1', 't1ce', 't2', 'flair']:\n",
    "    distances = np.zeros((x_count, y_count, z_count))\n",
    "    path = Path(f'images/Brats18_2013_17_1/{mod}_results')\n",
    "    for file in path.iterdir():\n",
    "        name = file.name.split('.')[0]\n",
    "        coords = [int(coord) for coord in name.split('-')]\n",
    "        output = nib.load(str(file)).get_fdata()\n",
    "        file_distances = hausdorff_distance3D(segment, output)\n",
    "        mse = mean_squared_error(file_distances, baseline_distances)\n",
    "        distances[coords[0]][coords[1]][coords[2]] = mse\n",
    "\n",
    "    np.save(f'images/Brats18_2013_17_1/{mod}.npy', distances)"
   ]
  }
 ],
 "metadata": {
  "kernelspec": {
   "display_name": "Python 3",
   "language": "python",
   "name": "python3"
  },
  "language_info": {
   "codemirror_mode": {
    "name": "ipython",
    "version": 3
   },
   "file_extension": ".py",
   "mimetype": "text/x-python",
   "name": "python",
   "nbconvert_exporter": "python",
   "pygments_lexer": "ipython3",
   "version": "3.7.2"
  }
 },
 "nbformat": 4,
 "nbformat_minor": 2
}
