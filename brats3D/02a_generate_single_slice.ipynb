{
 "cells": [
  {
   "cell_type": "code",
   "execution_count": null,
   "metadata": {},
   "outputs": [],
   "source": [
    "import nibabel as nib\n",
    "import numpy as np\n",
    "from pathlib import Path\n",
    "import shutil"
   ]
  },
  {
   "cell_type": "code",
   "execution_count": null,
   "metadata": {},
   "outputs": [],
   "source": [
    "CUBE_SIZE = 15\n",
    "OFFSET = 10\n",
    "ZEROS = np.zeros((CUBE_SIZE, CUBE_SIZE, CUBE_SIZE))\n",
    "\n",
    "\n",
    "def modify(nib_layer, path):\n",
    "    layer = nib_layer.get_fdata()\n",
    "\n",
    "    x_count = int(layer.shape[0] / OFFSET)\n",
    "    y_count = int(layer.shape[1] / OFFSET)\n",
    "    z_count = int(layer.shape[2] / OFFSET)\n",
    "\n",
    "    for x in range(x_count):\n",
    "        for y in range(y_count):\n",
    "            #for z in range(z_count):\n",
    "            z = 7\n",
    "            cube = layer[\n",
    "                x * OFFSET:x * OFFSET + CUBE_SIZE,\n",
    "                y * OFFSET:y * OFFSET + CUBE_SIZE,\n",
    "                z * OFFSET:z * OFFSET + CUBE_SIZE,\n",
    "            ]\n",
    "            if np.sum(cube) == 0.0:\n",
    "                continue\n",
    "\n",
    "            copy = np.copy(layer)\n",
    "            copy[\n",
    "                x * OFFSET:x * OFFSET + CUBE_SIZE,\n",
    "                y * OFFSET:y * OFFSET + CUBE_SIZE,\n",
    "                z * OFFSET:z * OFFSET + CUBE_SIZE,\n",
    "            ] = ZEROS\n",
    "\n",
    "            image = nib.Nifti1Image(copy, affine=nib_layer.affine)\n",
    "            nib.save(image, str(path / f'{x}-{y}-{z}.nii.gz'))"
   ]
  },
  {
   "cell_type": "code",
   "execution_count": null,
   "metadata": {
    "scrolled": false
   },
   "outputs": [],
   "source": [
    "def prepare(image):\n",
    "    base_path = Path('images/') / image\n",
    "    assert base_path.exists()\n",
    "    for modality in ['t1', 't1ce', 't2', 'flair']:\n",
    "        path = base_path / modality\n",
    "        if path.exists():\n",
    "            shutil.rmtree(path)\n",
    "        path.mkdir()\n",
    "\n",
    "        file_path = base_path / 'original' / f'{modality}.nii.gz'\n",
    "        layer = nib.load(str(file_path))\n",
    "        modify(layer, path)\n",
    "\n",
    "\n",
    "prepare('Brats18_2013_17_1')"
   ]
  }
 ],
 "metadata": {
  "kernelspec": {
   "display_name": "Python 3",
   "language": "python",
   "name": "python3"
  },
  "language_info": {
   "codemirror_mode": {
    "name": "ipython",
    "version": 3
   },
   "file_extension": ".py",
   "mimetype": "text/x-python",
   "name": "python",
   "nbconvert_exporter": "python",
   "pygments_lexer": "ipython3",
   "version": "3.7.2"
  }
 },
 "nbformat": 4,
 "nbformat_minor": 2
}
