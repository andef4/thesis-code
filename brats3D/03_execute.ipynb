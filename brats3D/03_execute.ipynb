{
 "cells": [
  {
   "cell_type": "code",
   "execution_count": null,
   "metadata": {},
   "outputs": [],
   "source": [
    "from pathlib import Path\n",
    "import shutil\n",
    "import os\n",
    "import subprocess"
   ]
  },
  {
   "cell_type": "code",
   "execution_count": null,
   "metadata": {},
   "outputs": [],
   "source": [
    "def link_files(input_path):\n",
    "    os.link(str(input_path / 'flair.nii.gz'), str(input_path / 'FLAIR.nii.gz'))\n",
    "    os.link(str(input_path / 'flair.nii.gz'), str(input_path / 'fla.nii.gz'))\n",
    "    os.link(str(input_path / 't1.nii.gz'), str(input_path / 'T1.nii.gz'))\n",
    "    os.link(str(input_path / 't1ce.nii.gz'), str(input_path / 'T1c.nii.gz'))\n",
    "    os.link(str(input_path / 't1ce.nii.gz'), str(input_path / 't1c.nii.gz'))\n",
    "    os.link(str(input_path / 't2.nii.gz'), str(input_path / 'T2.nii.gz'))\n",
    "\n",
    "\n",
    "def run_docker(input_path):\n",
    "    command = f'docker run --runtime=nvidia -i --rm -v {input_path.absolute()}' +\\\n",
    "               ':/data fabianisensee/isen2018 python3.6 predict_patient.py'\n",
    "    result = subprocess.run(command, shell=True, capture_output=True)\n",
    "    if result.returncode != 0:\n",
    "        print(result.stdout)\n",
    "        print(result.stderr)\n",
    "        raise Exception('failed to execute docker')"
   ]
  },
  {
   "cell_type": "code",
   "execution_count": null,
   "metadata": {},
   "outputs": [],
   "source": [
    "def baseline(image):\n",
    "    base_path = Path('images') / image\n",
    "\n",
    "    input_path = base_path / 'input'\n",
    "    if input_path.exists():\n",
    "        shutil.rmtree(input_path)\n",
    "    input_path.mkdir()\n",
    "\n",
    "    for mod in ['t1', 't1ce', 't2', 'flair']:\n",
    "        os.link(base_path / 'original' / f'{mod}.nii.gz',\n",
    "                input_path / f'{mod}.nii.gz')\n",
    "\n",
    "    results_path = input_path / 'results'\n",
    "    results_path.mkdir()\n",
    "    link_files(input_path)\n",
    "\n",
    "    run_docker(input_path)\n",
    "\n",
    "    result_file = list(results_path.iterdir())[0]\n",
    "    os.rename(result_file, base_path / 'baseline.nii.gz')"
   ]
  },
  {
   "cell_type": "code",
   "execution_count": null,
   "metadata": {
    "scrolled": false
   },
   "outputs": [],
   "source": [
    "def run(image):\n",
    "    base_path = Path('images') / image\n",
    "    mods = set(['t1', 't1ce', 't2', 'flair'])\n",
    "    for mod in mods:\n",
    "        mod_path = base_path / mod\n",
    "\n",
    "        mod_results_path = base_path / f'{mod}_results'\n",
    "        if mod_results_path.exists():\n",
    "            shutil.rmtree(mod_results_path)\n",
    "        mod_results_path.mkdir()\n",
    "\n",
    "        for file in mod_path.iterdir():\n",
    "            print(str(file))\n",
    "            input_path = base_path / 'input'\n",
    "            if input_path.exists():\n",
    "                shutil.rmtree(input_path)\n",
    "            input_path.mkdir()\n",
    "\n",
    "            os.link(file, input_path / f'{mod}.nii.gz')\n",
    "\n",
    "            other_mods = mods - set([mod])\n",
    "            for other_mod in other_mods:\n",
    "                os.link(base_path / 'original' / f'{other_mod}.nii.gz',\n",
    "                        input_path / f'{other_mod}.nii.gz')\n",
    "\n",
    "            link_files(input_path)\n",
    "\n",
    "            results_path = input_path / 'results'\n",
    "            results_path.mkdir()\n",
    "\n",
    "            run_docker(input_path)\n",
    "\n",
    "            result_file = list(results_path.iterdir())[0]\n",
    "            os.rename(result_file, mod_results_path / file.name)\n",
    "\n",
    "\n",
    "image = 'Brats18_2013_17_1'\n",
    "baseline(image)\n",
    "run(image)"
   ]
  }
 ],
 "metadata": {
  "kernelspec": {
   "display_name": "Python 3",
   "language": "python",
   "name": "python3"
  },
  "language_info": {
   "codemirror_mode": {
    "name": "ipython",
    "version": 3
   },
   "file_extension": ".py",
   "mimetype": "text/x-python",
   "name": "python",
   "nbconvert_exporter": "python",
   "pygments_lexer": "ipython3",
   "version": "3.7.2"
  }
 },
 "nbformat": 4,
 "nbformat_minor": 2
}
